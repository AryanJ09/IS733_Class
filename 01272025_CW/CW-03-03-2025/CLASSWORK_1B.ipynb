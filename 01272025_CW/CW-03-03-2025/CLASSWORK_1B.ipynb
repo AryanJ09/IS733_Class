{
  "nbformat": 4,
  "nbformat_minor": 0,
  "metadata": {
    "colab": {
      "provenance": []
    },
    "kernelspec": {
      "name": "python3",
      "display_name": "Python 3"
    },
    "language_info": {
      "name": "python"
    }
  },
  "cells": [
    {
      "cell_type": "code",
      "source": [
        "import pandas as pd\n",
        "import numpy as np\n",
        "from sklearn.model_selection import train_test_split\n",
        "from sklearn.feature_extraction.text import CountVectorizer\n",
        "from sklearn.naive_bayes import MultinomialNB\n",
        "from sklearn.neighbors import KNeighborsClassifier\n",
        "from sklearn.metrics import accuracy_score, classification_report"
      ],
      "metadata": {
        "id": "TmByOLaMstt3"
      },
      "execution_count": 10,
      "outputs": []
    },
    {
      "cell_type": "code",
      "source": [
        "# Load the dataset\n",
        "df = pd.read_csv('/content/hamspam.csv.csv')\n"
      ],
      "metadata": {
        "id": "8mDV_rv-swu6"
      },
      "execution_count": 12,
      "outputs": []
    },
    {
      "cell_type": "code",
      "source": [
        "# Prepare the features and target\n",
        "X = df['Contains Link'] + ' ' + df['Contains Money Words'] + ' ' + df['Length']\n",
        "y = df['Class']\n"
      ],
      "metadata": {
        "id": "M6Gd-w0Hszkb"
      },
      "execution_count": 13,
      "outputs": []
    },
    {
      "cell_type": "code",
      "source": [
        "# Split the data\n",
        "X_train, X_test, y_train, y_test = train_test_split(X, y, test_size=0.2, random_state=42)\n"
      ],
      "metadata": {
        "id": "Qyia77n4ur1U"
      },
      "execution_count": 14,
      "outputs": []
    },
    {
      "cell_type": "code",
      "source": [
        "# Vectorize the text data\n",
        "vectorizer = CountVectorizer()\n",
        "X_train_vectorized = vectorizer.fit_transform(X_train)\n",
        "X_test_vectorized = vectorizer.transform(X_test)\n"
      ],
      "metadata": {
        "id": "oqHShQxHuxEs"
      },
      "execution_count": 15,
      "outputs": []
    },
    {
      "cell_type": "code",
      "source": [
        "# Naive Bayes Classifier\n",
        "nb_classifier = MultinomialNB()\n",
        "nb_classifier.fit(X_train_vectorized, y_train)\n",
        "nb_predictions = nb_classifier.predict(X_test_vectorized)\n",
        "\n",
        "print(\"Naive Bayes Classifier Results:\")\n",
        "print(classification_report(y_test, nb_predictions))\n",
        "print(f\"Accuracy: {accuracy_score(y_test, nb_predictions):.2f}\")\n"
      ],
      "metadata": {
        "colab": {
          "base_uri": "https://localhost:8080/"
        },
        "id": "g5oJNFY3uzrI",
        "outputId": "d246897f-cc1e-43a0-8238-84a39ea0bbd5"
      },
      "execution_count": 16,
      "outputs": [
        {
          "output_type": "stream",
          "name": "stdout",
          "text": [
            "Naive Bayes Classifier Results:\n",
            "              precision    recall  f1-score   support\n",
            "\n",
            "         Ham       0.52      1.00      0.68       103\n",
            "        Spam       0.00      0.00      0.00        97\n",
            "\n",
            "    accuracy                           0.52       200\n",
            "   macro avg       0.26      0.50      0.34       200\n",
            "weighted avg       0.27      0.52      0.35       200\n",
            "\n",
            "Accuracy: 0.52\n"
          ]
        },
        {
          "output_type": "stream",
          "name": "stderr",
          "text": [
            "/usr/local/lib/python3.11/dist-packages/sklearn/metrics/_classification.py:1565: UndefinedMetricWarning: Precision is ill-defined and being set to 0.0 in labels with no predicted samples. Use `zero_division` parameter to control this behavior.\n",
            "  _warn_prf(average, modifier, f\"{metric.capitalize()} is\", len(result))\n",
            "/usr/local/lib/python3.11/dist-packages/sklearn/metrics/_classification.py:1565: UndefinedMetricWarning: Precision is ill-defined and being set to 0.0 in labels with no predicted samples. Use `zero_division` parameter to control this behavior.\n",
            "  _warn_prf(average, modifier, f\"{metric.capitalize()} is\", len(result))\n",
            "/usr/local/lib/python3.11/dist-packages/sklearn/metrics/_classification.py:1565: UndefinedMetricWarning: Precision is ill-defined and being set to 0.0 in labels with no predicted samples. Use `zero_division` parameter to control this behavior.\n",
            "  _warn_prf(average, modifier, f\"{metric.capitalize()} is\", len(result))\n"
          ]
        }
      ]
    },
    {
      "cell_type": "code",
      "source": [
        "# KNN Classifier\n",
        "knn_classifier = KNeighborsClassifier(n_neighbors=5)\n",
        "knn_classifier.fit(X_train_vectorized, y_train)\n",
        "knn_predictions = knn_classifier.predict(X_test_vectorized)\n",
        "\n",
        "print(\"\\nKNN Classifier Results:\")\n",
        "print(classification_report(y_test, knn_predictions))\n",
        "print(f\"Accuracy: {accuracy_score(y_test, knn_predictions):.2f}\")"
      ],
      "metadata": {
        "colab": {
          "base_uri": "https://localhost:8080/"
        },
        "id": "QUvtr1HNu4xo",
        "outputId": "a4178aa8-0ba3-4b0f-b8fc-0318f7f968df"
      },
      "execution_count": 17,
      "outputs": [
        {
          "output_type": "stream",
          "name": "stdout",
          "text": [
            "\n",
            "KNN Classifier Results:\n",
            "              precision    recall  f1-score   support\n",
            "\n",
            "         Ham       0.54      0.42      0.47       103\n",
            "        Spam       0.50      0.62      0.55        97\n",
            "\n",
            "    accuracy                           0.52       200\n",
            "   macro avg       0.52      0.52      0.51       200\n",
            "weighted avg       0.52      0.52      0.51       200\n",
            "\n",
            "Accuracy: 0.52\n"
          ]
        }
      ]
    },
    {
      "cell_type": "code",
      "source": [],
      "metadata": {
        "id": "mDGqWhBzvBIC"
      },
      "execution_count": null,
      "outputs": []
    }
  ]
}