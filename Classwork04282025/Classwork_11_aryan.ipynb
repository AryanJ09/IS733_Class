{
  "cells": [
    {
      "cell_type": "code",
      "execution_count": 1,
      "id": "2e5cd23a-c42d-4ae9-bc7f-5eaa7a1bc033",
      "metadata": {
        "id": "2e5cd23a-c42d-4ae9-bc7f-5eaa7a1bc033"
      },
      "outputs": [],
      "source": [
        "import pandas as pd\n",
        "import re\n",
        "import numpy as np\n",
        "from sklearn.feature_extraction.text import TfidfVectorizer\n",
        "from sklearn.model_selection import cross_val_score, StratifiedKFold, LeaveOneGroupOut\n",
        "from sklearn.linear_model import LogisticRegression\n",
        "from sklearn.svm import SVC\n",
        "from sklearn.naive_bayes import MultinomialNB\n",
        "from sklearn.ensemble import RandomForestClassifier\n",
        "from sklearn.metrics import accuracy_score"
      ]
    },
    {
      "cell_type": "code",
      "execution_count": 2,
      "id": "cac81c22-8f35-42ac-9723-6669582b9c97",
      "metadata": {
        "id": "cac81c22-8f35-42ac-9723-6669582b9c97"
      },
      "outputs": [],
      "source": [
        "# Load the dataset\n",
        "df = pd.read_csv(\"/content/data_stories_one_shot.csv\")  # Make sure the path is correct\n",
        "\n"
      ]
    },
    {
      "cell_type": "code",
      "execution_count": 4,
      "id": "7ce31a83-a059-4f32-a20c-ff48865efbd0",
      "metadata": {
        "id": "7ce31a83-a059-4f32-a20c-ff48865efbd0"
      },
      "outputs": [],
      "source": [
        "# Define a basic preprocessing function (without NLTK)\n",
        "def basic_preprocess(text):\n",
        "    text = text.lower()\n",
        "    text = re.sub(r\"[^\\w\\s]\", \"\", text)\n",
        "    stopwords = set([\n",
        "        'the', 'is', 'in', 'and', 'to', 'of', 'a', 'with', 'that', 'this',\n",
        "        'for', 'on', 'as', 'are', 'an', 'be', 'or', 'at', 'by', 'from', 'it', 'was', 'which'\n",
        "    ])\n",
        "    tokens = text.split()\n",
        "    return ' '.join([word for word in tokens if word not in stopwords])"
      ]
    },
    {
      "cell_type": "code",
      "execution_count": 5,
      "id": "fa53fd56-d792-4646-85be-9ebaf9d202d1",
      "metadata": {
        "id": "fa53fd56-d792-4646-85be-9ebaf9d202d1"
      },
      "outputs": [],
      "source": [
        "# Apply preprocessing\n",
        "df['Processed'] = df['Sentence'].apply(basic_preprocess)\n",
        "\n",
        "# Prepare inputs\n",
        "X_text = df['Processed']\n",
        "y = df['Stage']\n",
        "groups = df['Plot_Name']\n",
        "\n",
        "# TF-IDF vectorization\n",
        "vectorizer = TfidfVectorizer()\n",
        "X = vectorizer.fit_transform(X_text)"
      ]
    },
    {
      "cell_type": "code",
      "execution_count": 6,
      "id": "61e27efb-e3fa-44db-a92d-7928c2fa91fb",
      "metadata": {
        "id": "61e27efb-e3fa-44db-a92d-7928c2fa91fb"
      },
      "outputs": [],
      "source": [
        "# Define models\n",
        "models = {\n",
        "    'Logistic Regression': LogisticRegression(max_iter=1000),\n",
        "    'SVM': SVC(kernel='linear'),\n",
        "    'Naive Bayes': MultinomialNB(),\n",
        "    'Random Forest': RandomForestClassifier(n_estimators=100, random_state=42)\n",
        "}\n",
        "\n",
        "# Results storage\n",
        "results = {\n",
        "    'Model': [],\n",
        "    'Zero-Shot CV Accuracy': [],\n",
        "    'Zero-Shot Leave-One-Plot-Out Accuracy': []\n",
        "}\n"
      ]
    },
    {
      "cell_type": "code",
      "execution_count": 7,
      "id": "9e2aa3e7-943b-4ae0-91d4-46f1fe6191e2",
      "metadata": {
        "colab": {
          "base_uri": "https://localhost:8080/"
        },
        "id": "9e2aa3e7-943b-4ae0-91d4-46f1fe6191e2",
        "outputId": "1c6dd002-15bf-42ae-a030-a5f8d122814c"
      },
      "outputs": [
        {
          "output_type": "stream",
          "name": "stderr",
          "text": [
            "/usr/local/lib/python3.11/dist-packages/sklearn/model_selection/_split.py:805: UserWarning: The least populated class in y has only 3 members, which is less than n_splits=5.\n",
            "  warnings.warn(\n",
            "/usr/local/lib/python3.11/dist-packages/sklearn/model_selection/_split.py:805: UserWarning: The least populated class in y has only 3 members, which is less than n_splits=5.\n",
            "  warnings.warn(\n",
            "/usr/local/lib/python3.11/dist-packages/sklearn/model_selection/_split.py:805: UserWarning: The least populated class in y has only 3 members, which is less than n_splits=5.\n",
            "  warnings.warn(\n",
            "/usr/local/lib/python3.11/dist-packages/sklearn/model_selection/_split.py:805: UserWarning: The least populated class in y has only 3 members, which is less than n_splits=5.\n",
            "  warnings.warn(\n"
          ]
        },
        {
          "output_type": "stream",
          "name": "stdout",
          "text": [
            "                 Model  Zero-Shot CV Accuracy  \\\n",
            "0  Logistic Regression                  0.715   \n",
            "1                  SVM                  0.769   \n",
            "2          Naive Bayes                  0.738   \n",
            "3        Random Forest                  0.746   \n",
            "\n",
            "   Zero-Shot Leave-One-Plot-Out Accuracy  \n",
            "0                                  0.662  \n",
            "1                                  0.702  \n",
            "2                                  0.686  \n",
            "3                                  0.618  \n"
          ]
        }
      ],
      "source": [
        "\n",
        "# Cross-validation\n",
        "cv = StratifiedKFold(n_splits=5, shuffle=True, random_state=42)\n",
        "\n",
        "for name, model in models.items():\n",
        "    # CV score\n",
        "    cv_scores = cross_val_score(model, X, y, cv=cv)\n",
        "\n",
        "    # Leave-One-Plot-Out score\n",
        "    logo = LeaveOneGroupOut()\n",
        "    logo_scores = []\n",
        "    for train_idx, test_idx in logo.split(X, y, groups):\n",
        "        model.fit(X[train_idx], y[train_idx])\n",
        "        preds = model.predict(X[test_idx])\n",
        "        logo_scores.append(accuracy_score(y[test_idx], preds))\n",
        "\n",
        "    # Save results\n",
        "    results['Model'].append(name)\n",
        "    results['Zero-Shot CV Accuracy'].append(np.mean(cv_scores))\n",
        "    results['Zero-Shot Leave-One-Plot-Out Accuracy'].append(np.mean(logo_scores))\n",
        "\n",
        "# Create final results table\n",
        "results_df = pd.DataFrame(results)\n",
        "print(results_df.round(3))\n"
      ]
    },
    {
      "cell_type": "code",
      "execution_count": 7,
      "id": "aa8cfdf5-4d59-43e6-a734-876b53d67e79",
      "metadata": {
        "id": "aa8cfdf5-4d59-43e6-a734-876b53d67e79"
      },
      "outputs": [],
      "source": []
    },
    {
      "cell_type": "code",
      "execution_count": null,
      "id": "3f9e4514-e70b-420a-b27b-397db4ac904c",
      "metadata": {
        "id": "3f9e4514-e70b-420a-b27b-397db4ac904c"
      },
      "outputs": [],
      "source": []
    },
    {
      "cell_type": "code",
      "execution_count": null,
      "id": "dd037787-c6a3-472a-9c6e-8e79ea2e127c",
      "metadata": {
        "id": "dd037787-c6a3-472a-9c6e-8e79ea2e127c"
      },
      "outputs": [],
      "source": []
    }
  ],
  "metadata": {
    "kernelspec": {
      "display_name": "Python [conda env:base] *",
      "language": "python",
      "name": "conda-base-py"
    },
    "language_info": {
      "codemirror_mode": {
        "name": "ipython",
        "version": 3
      },
      "file_extension": ".py",
      "mimetype": "text/x-python",
      "name": "python",
      "nbconvert_exporter": "python",
      "pygments_lexer": "ipython3",
      "version": "3.12.7"
    },
    "colab": {
      "provenance": []
    }
  },
  "nbformat": 4,
  "nbformat_minor": 5
}